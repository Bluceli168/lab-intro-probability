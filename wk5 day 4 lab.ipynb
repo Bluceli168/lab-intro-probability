{
 "cells": [
  {
   "cell_type": "code",
   "execution_count": 14,
   "id": "a8047ec4-15ef-407c-ac4f-922156529ff4",
   "metadata": {},
   "outputs": [
    {
     "name": "stdout",
     "output_type": "stream",
     "text": [
      "routinely sells 460 tickets, the possibility they have a seats for all passenger is : 0.185\n",
      "the probability representative needs make at least three attempts before successfully resolve complain is : 0.490\n",
      "the probability of the website server being overwhelmed is : 0.013\n",
      " the probability that the next customer will arrive within the next 5 minutes is： 0.393\n",
      " when we randomly select a bird, the probability that its weight is between 140 and 160 grams is： 0.683\n"
     ]
    }
   ],
   "source": [
    "import scipy.stats as stats\n",
    "import numpy as np\n",
    "\n",
    "## challenge 1\n",
    "n= 460\n",
    "p=0.03\n",
    "k =10\n",
    "\n",
    "prob1 = stats.binom.cdf(k,n,p)\n",
    "print(f\"routinely sells 460 tickets, the possibility they have a seats for all passenger is : {prob1:.3f}\")\n",
    "\n",
    "## challenge 2\n",
    "p =0.3\n",
    "k =2\n",
    "prob2 = 1 - stats.geom.cdf(k,p)\n",
    "print(f\"the probability representative needs make at least three attempts before successfully resolve complain is : {prob2:.3f}\")\n",
    "\n",
    "## challenge 3\n",
    "lam =500\n",
    "k =550\n",
    "prob3 = 1- stats.poisson.cdf(k,lam)\n",
    "print(f\"the probability of the website server being overwhelmed is : {prob3:.3f}\")\n",
    "\n",
    "## challenge 4\n",
    "lam =1/10\n",
    "prob4= 1-np.exp(-lam*5)\n",
    "print(f\" the probability that the next customer will arrive within the next 5 minutes is： {prob4:.3f}\")\n",
    "\n",
    "## challenge 5\n",
    "mu = 150\n",
    "sigma =10\n",
    "prob5 = stats.norm.cdf(160,mu,sigma) -stats.norm.cdf(140,mu,sigma)\n",
    "print(f\" when we randomly select a bird, the probability that its weight is between 140 and 160 grams is： {prob5:.3f}\")\n",
    "\n",
    "## challenge 6\n",
    "lam =1/50\n",
    "prob4= 1-np.exp(-lam*30)\n",
    "print(f\" the probability that the next customer will arrive within the next 5 minutes is： {prob4:.3f}\")\n"
   ]
  },
  {
   "cell_type": "code",
   "execution_count": null,
   "id": "a5c5b7f1-4acd-4ecb-a4ee-93b2780b1a32",
   "metadata": {},
   "outputs": [],
   "source": []
  }
 ],
 "metadata": {
  "kernelspec": {
   "display_name": "Python 3 (ipykernel)",
   "language": "python",
   "name": "python3"
  },
  "language_info": {
   "codemirror_mode": {
    "name": "ipython",
    "version": 3
   },
   "file_extension": ".py",
   "mimetype": "text/x-python",
   "name": "python",
   "nbconvert_exporter": "python",
   "pygments_lexer": "ipython3",
   "version": "3.12.4"
  }
 },
 "nbformat": 4,
 "nbformat_minor": 5
}
